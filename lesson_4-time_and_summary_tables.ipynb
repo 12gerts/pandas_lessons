{
 "cells": [
  {
   "cell_type": "markdown",
   "id": "8573893f",
   "metadata": {},
   "source": [
    "# ВРЕМЯ И СВОДНЫЕ ТАБЛИЦЫ "
   ]
  },
  {
   "cell_type": "markdown",
   "id": "4962e1a8",
   "metadata": {},
   "source": [
    "Имеются следующие данные о транзакциях в период с 01.12.2010 по 12.09.2011:\n",
    "\n",
    "**InvoiceNo** — номер транзакции   \n",
    "**StockCode** — код товара  \n",
    "**Description** — описание товара  \n",
    "**Quantity** — количество единиц товара, добавленных в заказ  \n",
    "**InvoiceDate** — дата транзакции   \n",
    "**UnitPrice** — цена за единицу товара  \n",
    "**CustomerID** — id клиента  \n",
    "**Country** — страна, где проживает клиент  "
   ]
  },
  {
   "cell_type": "code",
   "execution_count": 2,
   "id": "c34823e3",
   "metadata": {},
   "outputs": [],
   "source": [
    "import pandas as pd\n",
    "import seaborn as sns\n",
    "import matplotlib.pyplot as plt\n",
    "import os\n",
    "\n",
    "%matplotlib inline"
   ]
  },
  {
   "cell_type": "code",
   "execution_count": 3,
   "id": "0564747a",
   "metadata": {},
   "outputs": [
    {
     "data": {
      "text/html": [
       "<div>\n",
       "<style scoped>\n",
       "    .dataframe tbody tr th:only-of-type {\n",
       "        vertical-align: middle;\n",
       "    }\n",
       "\n",
       "    .dataframe tbody tr th {\n",
       "        vertical-align: top;\n",
       "    }\n",
       "\n",
       "    .dataframe thead th {\n",
       "        text-align: right;\n",
       "    }\n",
       "</style>\n",
       "<table border=\"1\" class=\"dataframe\">\n",
       "  <thead>\n",
       "    <tr style=\"text-align: right;\">\n",
       "      <th></th>\n",
       "      <th>InvoiceNo</th>\n",
       "      <th>StockCode</th>\n",
       "      <th>Description</th>\n",
       "      <th>Quantity</th>\n",
       "      <th>InvoiceDate</th>\n",
       "      <th>UnitPrice</th>\n",
       "      <th>CustomerID</th>\n",
       "      <th>Country</th>\n",
       "    </tr>\n",
       "  </thead>\n",
       "  <tbody>\n",
       "    <tr>\n",
       "      <th>0</th>\n",
       "      <td>536365</td>\n",
       "      <td>85123A</td>\n",
       "      <td>WHITE HANGING HEART T-LIGHT HOLDER</td>\n",
       "      <td>6</td>\n",
       "      <td>12/1/2010 8:26</td>\n",
       "      <td>2.55</td>\n",
       "      <td>17850.0</td>\n",
       "      <td>United Kingdom</td>\n",
       "    </tr>\n",
       "    <tr>\n",
       "      <th>1</th>\n",
       "      <td>536365</td>\n",
       "      <td>71053</td>\n",
       "      <td>WHITE METAL LANTERN</td>\n",
       "      <td>6</td>\n",
       "      <td>12/1/2010 8:26</td>\n",
       "      <td>3.39</td>\n",
       "      <td>17850.0</td>\n",
       "      <td>United Kingdom</td>\n",
       "    </tr>\n",
       "    <tr>\n",
       "      <th>2</th>\n",
       "      <td>536365</td>\n",
       "      <td>84406B</td>\n",
       "      <td>CREAM CUPID HEARTS COAT HANGER</td>\n",
       "      <td>8</td>\n",
       "      <td>12/1/2010 8:26</td>\n",
       "      <td>2.75</td>\n",
       "      <td>17850.0</td>\n",
       "      <td>United Kingdom</td>\n",
       "    </tr>\n",
       "    <tr>\n",
       "      <th>3</th>\n",
       "      <td>536365</td>\n",
       "      <td>84029G</td>\n",
       "      <td>KNITTED UNION FLAG HOT WATER BOTTLE</td>\n",
       "      <td>6</td>\n",
       "      <td>12/1/2010 8:26</td>\n",
       "      <td>3.39</td>\n",
       "      <td>17850.0</td>\n",
       "      <td>United Kingdom</td>\n",
       "    </tr>\n",
       "    <tr>\n",
       "      <th>4</th>\n",
       "      <td>536365</td>\n",
       "      <td>84029E</td>\n",
       "      <td>RED WOOLLY HOTTIE WHITE HEART.</td>\n",
       "      <td>6</td>\n",
       "      <td>12/1/2010 8:26</td>\n",
       "      <td>3.39</td>\n",
       "      <td>17850.0</td>\n",
       "      <td>United Kingdom</td>\n",
       "    </tr>\n",
       "    <tr>\n",
       "      <th>...</th>\n",
       "      <td>...</td>\n",
       "      <td>...</td>\n",
       "      <td>...</td>\n",
       "      <td>...</td>\n",
       "      <td>...</td>\n",
       "      <td>...</td>\n",
       "      <td>...</td>\n",
       "      <td>...</td>\n",
       "    </tr>\n",
       "    <tr>\n",
       "      <th>541904</th>\n",
       "      <td>581587</td>\n",
       "      <td>22613</td>\n",
       "      <td>PACK OF 20 SPACEBOY NAPKINS</td>\n",
       "      <td>12</td>\n",
       "      <td>12/9/2011 12:50</td>\n",
       "      <td>0.85</td>\n",
       "      <td>12680.0</td>\n",
       "      <td>France</td>\n",
       "    </tr>\n",
       "    <tr>\n",
       "      <th>541905</th>\n",
       "      <td>581587</td>\n",
       "      <td>22899</td>\n",
       "      <td>CHILDREN'S APRON DOLLY GIRL</td>\n",
       "      <td>6</td>\n",
       "      <td>12/9/2011 12:50</td>\n",
       "      <td>2.10</td>\n",
       "      <td>12680.0</td>\n",
       "      <td>France</td>\n",
       "    </tr>\n",
       "    <tr>\n",
       "      <th>541906</th>\n",
       "      <td>581587</td>\n",
       "      <td>23254</td>\n",
       "      <td>CHILDRENS CUTLERY DOLLY GIRL</td>\n",
       "      <td>4</td>\n",
       "      <td>12/9/2011 12:50</td>\n",
       "      <td>4.15</td>\n",
       "      <td>12680.0</td>\n",
       "      <td>France</td>\n",
       "    </tr>\n",
       "    <tr>\n",
       "      <th>541907</th>\n",
       "      <td>581587</td>\n",
       "      <td>23255</td>\n",
       "      <td>CHILDRENS CUTLERY CIRCUS PARADE</td>\n",
       "      <td>4</td>\n",
       "      <td>12/9/2011 12:50</td>\n",
       "      <td>4.15</td>\n",
       "      <td>12680.0</td>\n",
       "      <td>France</td>\n",
       "    </tr>\n",
       "    <tr>\n",
       "      <th>541908</th>\n",
       "      <td>581587</td>\n",
       "      <td>22138</td>\n",
       "      <td>BAKING SET 9 PIECE RETROSPOT</td>\n",
       "      <td>3</td>\n",
       "      <td>12/9/2011 12:50</td>\n",
       "      <td>4.95</td>\n",
       "      <td>12680.0</td>\n",
       "      <td>France</td>\n",
       "    </tr>\n",
       "  </tbody>\n",
       "</table>\n",
       "<p>541909 rows × 8 columns</p>\n",
       "</div>"
      ],
      "text/plain": [
       "       InvoiceNo StockCode                          Description  Quantity  \\\n",
       "0         536365    85123A   WHITE HANGING HEART T-LIGHT HOLDER         6   \n",
       "1         536365     71053                  WHITE METAL LANTERN         6   \n",
       "2         536365    84406B       CREAM CUPID HEARTS COAT HANGER         8   \n",
       "3         536365    84029G  KNITTED UNION FLAG HOT WATER BOTTLE         6   \n",
       "4         536365    84029E       RED WOOLLY HOTTIE WHITE HEART.         6   \n",
       "...          ...       ...                                  ...       ...   \n",
       "541904    581587     22613          PACK OF 20 SPACEBOY NAPKINS        12   \n",
       "541905    581587     22899         CHILDREN'S APRON DOLLY GIRL          6   \n",
       "541906    581587     23254        CHILDRENS CUTLERY DOLLY GIRL          4   \n",
       "541907    581587     23255      CHILDRENS CUTLERY CIRCUS PARADE         4   \n",
       "541908    581587     22138        BAKING SET 9 PIECE RETROSPOT          3   \n",
       "\n",
       "            InvoiceDate  UnitPrice  CustomerID         Country  \n",
       "0        12/1/2010 8:26       2.55     17850.0  United Kingdom  \n",
       "1        12/1/2010 8:26       3.39     17850.0  United Kingdom  \n",
       "2        12/1/2010 8:26       2.75     17850.0  United Kingdom  \n",
       "3        12/1/2010 8:26       3.39     17850.0  United Kingdom  \n",
       "4        12/1/2010 8:26       3.39     17850.0  United Kingdom  \n",
       "...                 ...        ...         ...             ...  \n",
       "541904  12/9/2011 12:50       0.85     12680.0          France  \n",
       "541905  12/9/2011 12:50       2.10     12680.0          France  \n",
       "541906  12/9/2011 12:50       4.15     12680.0          France  \n",
       "541907  12/9/2011 12:50       4.15     12680.0          France  \n",
       "541908  12/9/2011 12:50       4.95     12680.0          France  \n",
       "\n",
       "[541909 rows x 8 columns]"
      ]
     },
     "execution_count": 3,
     "metadata": {},
     "output_type": "execute_result"
    }
   ],
   "source": [
    "retail = pd.read_csv('5_data.csv.zip', encoding='ISO-8859-1', compression='zip')\n",
    "retail"
   ]
  },
  {
   "cell_type": "markdown",
   "id": "846b6fb6",
   "metadata": {},
   "source": [
    "1) Проверьте, встречаются ли в данных повторяющиеся наблюдения, и в качестве ответа укажите их количество. Если они есть, то удалите их из *retail*."
   ]
  },
  {
   "cell_type": "code",
   "execution_count": 10,
   "id": "3a559f21",
   "metadata": {},
   "outputs": [
    {
     "data": {
      "text/plain": [
       "0"
      ]
     },
     "execution_count": 10,
     "metadata": {},
     "output_type": "execute_result"
    }
   ],
   "source": [
    "retail.shape[0] - retail.drop_duplicates().shape[0]"
   ]
  },
  {
   "cell_type": "code",
   "execution_count": 122,
   "id": "d67aa2f9",
   "metadata": {},
   "outputs": [
    {
     "data": {
      "text/plain": [
       "InvoiceNo       object\n",
       "StockCode       object\n",
       "Description     object\n",
       "Quantity         int64\n",
       "InvoiceDate     object\n",
       "UnitPrice      float64\n",
       "CustomerID     float64\n",
       "Country         object\n",
       "Revenue        float64\n",
       "dtype: object"
      ]
     },
     "execution_count": 122,
     "metadata": {},
     "output_type": "execute_result"
    }
   ],
   "source": [
    "retail.dtypes"
   ]
  },
  {
   "cell_type": "code",
   "execution_count": 4,
   "id": "525d233b",
   "metadata": {},
   "outputs": [],
   "source": [
    "retail = retail.drop_duplicates()"
   ]
  },
  {
   "cell_type": "markdown",
   "id": "a5d3603c",
   "metadata": {},
   "source": [
    "2) Данные содержат в себе записи как об успешных транзакциях, так и об отмененных. Если пользователь отменил заказ, в начале номера транзакции (*InvoiceNo*) ставится *C* (canceled). \n",
    "\n",
    "Сколько всего транзакций отменили пользователи? Каждый отдельный тип продукта считайте за отдельную транзакцию - уникальные номера считать не надо."
   ]
  },
  {
   "cell_type": "code",
   "execution_count": 16,
   "id": "d961dfe3",
   "metadata": {},
   "outputs": [
    {
     "data": {
      "text/plain": [
       "9251"
      ]
     },
     "execution_count": 16,
     "metadata": {},
     "output_type": "execute_result"
    }
   ],
   "source": [
    "retail[retail['InvoiceNo'].str.startswith('C')]['InvoiceNo'].count()"
   ]
  },
  {
   "cell_type": "markdown",
   "id": "e3a498ff",
   "metadata": {},
   "source": [
    "3) Теперь отфильтруйте данные и оставьте в *retail* только те заказы, где *Quantity* > 0. В качестве ответа укажите число оставшихся строк."
   ]
  },
  {
   "cell_type": "code",
   "execution_count": 19,
   "id": "7d0721ab",
   "metadata": {},
   "outputs": [
    {
     "data": {
      "text/plain": [
       "526054"
      ]
     },
     "execution_count": 19,
     "metadata": {},
     "output_type": "execute_result"
    }
   ],
   "source": [
    "retail.query('Quantity > 0').shape[0]"
   ]
  },
  {
   "cell_type": "markdown",
   "id": "bd9f45a0",
   "metadata": {},
   "source": [
    "4) Посчитайте число заказов для каждого пользователя (*CustomerID*) из Германии (Germany). Оставьте только тех, кто совершил более N транзакций (*InvoiceNo*), где N – 80% процентиль. Запишите полученные *id* пользователей в *germany_top* (не весь датафрейм, только id)."
   ]
  },
  {
   "cell_type": "code",
   "execution_count": 5,
   "id": "d72e4ba9",
   "metadata": {},
   "outputs": [
    {
     "data": {
      "text/plain": [
       "Float64Index([12471.0, 12472.0, 12474.0, 12476.0, 12481.0, 12500.0, 12569.0,\n",
       "              12600.0, 12619.0, 12621.0, 12626.0, 12647.0, 12662.0, 12705.0,\n",
       "              12708.0, 12709.0, 12712.0, 12720.0],\n",
       "             dtype='float64', name='CustomerID')"
      ]
     },
     "execution_count": 5,
     "metadata": {},
     "output_type": "execute_result"
    }
   ],
   "source": [
    "germany_top = retail[retail['Country'] == 'Germany'] \\\n",
    "    .groupby('CustomerID') \\\n",
    "    .agg({'InvoiceNo' : 'nunique'}) \\\n",
    "    .query('InvoiceNo > InvoiceNo.quantile(q=0.8)') \\\n",
    "    .index\n",
    "\n",
    "germany_top"
   ]
  },
  {
   "cell_type": "code",
   "execution_count": 11,
   "id": "217495d0",
   "metadata": {},
   "outputs": [
    {
     "data": {
      "text/plain": [
       "Quantity         12.00\n",
       "UnitPrice         4.95\n",
       "CustomerID    17091.00\n",
       "Name: 0.8, dtype: float64"
      ]
     },
     "execution_count": 11,
     "metadata": {},
     "output_type": "execute_result"
    }
   ],
   "source": [
    "retail.quantile(q=0.8)"
   ]
  },
  {
   "cell_type": "markdown",
   "id": "814e643c",
   "metadata": {},
   "source": [
    "5) Используя объект с *id* пользователей (*germany_top*), полученный на предыдущем шаге, отфильтруйте наблюдения и оставьте в данных записи только по интересующим нас юзерам. Результирующий датафрейм запишите в *top_retail_germany*. "
   ]
  },
  {
   "cell_type": "code",
   "execution_count": 11,
   "id": "28b9bce7",
   "metadata": {},
   "outputs": [
    {
     "data": {
      "text/html": [
       "<div>\n",
       "<style scoped>\n",
       "    .dataframe tbody tr th:only-of-type {\n",
       "        vertical-align: middle;\n",
       "    }\n",
       "\n",
       "    .dataframe tbody tr th {\n",
       "        vertical-align: top;\n",
       "    }\n",
       "\n",
       "    .dataframe thead th {\n",
       "        text-align: right;\n",
       "    }\n",
       "</style>\n",
       "<table border=\"1\" class=\"dataframe\">\n",
       "  <thead>\n",
       "    <tr style=\"text-align: right;\">\n",
       "      <th></th>\n",
       "      <th>InvoiceNo</th>\n",
       "      <th>StockCode</th>\n",
       "      <th>Description</th>\n",
       "      <th>Quantity</th>\n",
       "      <th>InvoiceDate</th>\n",
       "      <th>UnitPrice</th>\n",
       "      <th>CustomerID</th>\n",
       "      <th>Country</th>\n",
       "    </tr>\n",
       "  </thead>\n",
       "  <tbody>\n",
       "    <tr>\n",
       "      <th>1109</th>\n",
       "      <td>536527</td>\n",
       "      <td>22809</td>\n",
       "      <td>SET OF 6 T-LIGHTS SANTA</td>\n",
       "      <td>6</td>\n",
       "      <td>12/1/2010 13:04</td>\n",
       "      <td>2.95</td>\n",
       "      <td>12662.0</td>\n",
       "      <td>Germany</td>\n",
       "    </tr>\n",
       "    <tr>\n",
       "      <th>1110</th>\n",
       "      <td>536527</td>\n",
       "      <td>84347</td>\n",
       "      <td>ROTATING SILVER ANGELS T-LIGHT HLDR</td>\n",
       "      <td>6</td>\n",
       "      <td>12/1/2010 13:04</td>\n",
       "      <td>2.55</td>\n",
       "      <td>12662.0</td>\n",
       "      <td>Germany</td>\n",
       "    </tr>\n",
       "    <tr>\n",
       "      <th>1111</th>\n",
       "      <td>536527</td>\n",
       "      <td>84945</td>\n",
       "      <td>MULTI COLOUR SILVER T-LIGHT HOLDER</td>\n",
       "      <td>12</td>\n",
       "      <td>12/1/2010 13:04</td>\n",
       "      <td>0.85</td>\n",
       "      <td>12662.0</td>\n",
       "      <td>Germany</td>\n",
       "    </tr>\n",
       "    <tr>\n",
       "      <th>1112</th>\n",
       "      <td>536527</td>\n",
       "      <td>22242</td>\n",
       "      <td>5 HOOK HANGER MAGIC TOADSTOOL</td>\n",
       "      <td>12</td>\n",
       "      <td>12/1/2010 13:04</td>\n",
       "      <td>1.65</td>\n",
       "      <td>12662.0</td>\n",
       "      <td>Germany</td>\n",
       "    </tr>\n",
       "    <tr>\n",
       "      <th>1113</th>\n",
       "      <td>536527</td>\n",
       "      <td>22244</td>\n",
       "      <td>3 HOOK HANGER MAGIC GARDEN</td>\n",
       "      <td>12</td>\n",
       "      <td>12/1/2010 13:04</td>\n",
       "      <td>1.95</td>\n",
       "      <td>12662.0</td>\n",
       "      <td>Germany</td>\n",
       "    </tr>\n",
       "    <tr>\n",
       "      <th>...</th>\n",
       "      <td>...</td>\n",
       "      <td>...</td>\n",
       "      <td>...</td>\n",
       "      <td>...</td>\n",
       "      <td>...</td>\n",
       "      <td>...</td>\n",
       "      <td>...</td>\n",
       "      <td>...</td>\n",
       "    </tr>\n",
       "    <tr>\n",
       "      <th>541726</th>\n",
       "      <td>581570</td>\n",
       "      <td>22139</td>\n",
       "      <td>RETROSPOT TEA SET CERAMIC 11 PC</td>\n",
       "      <td>3</td>\n",
       "      <td>12/9/2011 11:59</td>\n",
       "      <td>4.95</td>\n",
       "      <td>12662.0</td>\n",
       "      <td>Germany</td>\n",
       "    </tr>\n",
       "    <tr>\n",
       "      <th>541727</th>\n",
       "      <td>581570</td>\n",
       "      <td>23077</td>\n",
       "      <td>DOUGHNUT LIP GLOSS</td>\n",
       "      <td>20</td>\n",
       "      <td>12/9/2011 11:59</td>\n",
       "      <td>1.25</td>\n",
       "      <td>12662.0</td>\n",
       "      <td>Germany</td>\n",
       "    </tr>\n",
       "    <tr>\n",
       "      <th>541728</th>\n",
       "      <td>581570</td>\n",
       "      <td>20750</td>\n",
       "      <td>RED RETROSPOT MINI CASES</td>\n",
       "      <td>2</td>\n",
       "      <td>12/9/2011 11:59</td>\n",
       "      <td>7.95</td>\n",
       "      <td>12662.0</td>\n",
       "      <td>Germany</td>\n",
       "    </tr>\n",
       "    <tr>\n",
       "      <th>541729</th>\n",
       "      <td>581570</td>\n",
       "      <td>22505</td>\n",
       "      <td>MEMO BOARD COTTAGE DESIGN</td>\n",
       "      <td>4</td>\n",
       "      <td>12/9/2011 11:59</td>\n",
       "      <td>4.95</td>\n",
       "      <td>12662.0</td>\n",
       "      <td>Germany</td>\n",
       "    </tr>\n",
       "    <tr>\n",
       "      <th>541730</th>\n",
       "      <td>581570</td>\n",
       "      <td>POST</td>\n",
       "      <td>POSTAGE</td>\n",
       "      <td>1</td>\n",
       "      <td>12/9/2011 11:59</td>\n",
       "      <td>18.00</td>\n",
       "      <td>12662.0</td>\n",
       "      <td>Germany</td>\n",
       "    </tr>\n",
       "  </tbody>\n",
       "</table>\n",
       "<p>4693 rows × 8 columns</p>\n",
       "</div>"
      ],
      "text/plain": [
       "       InvoiceNo StockCode                          Description  Quantity  \\\n",
       "1109      536527     22809              SET OF 6 T-LIGHTS SANTA         6   \n",
       "1110      536527     84347  ROTATING SILVER ANGELS T-LIGHT HLDR         6   \n",
       "1111      536527     84945   MULTI COLOUR SILVER T-LIGHT HOLDER        12   \n",
       "1112      536527     22242        5 HOOK HANGER MAGIC TOADSTOOL        12   \n",
       "1113      536527     22244           3 HOOK HANGER MAGIC GARDEN        12   \n",
       "...          ...       ...                                  ...       ...   \n",
       "541726    581570     22139     RETROSPOT TEA SET CERAMIC 11 PC          3   \n",
       "541727    581570     23077                  DOUGHNUT LIP GLOSS         20   \n",
       "541728    581570     20750             RED RETROSPOT MINI CASES         2   \n",
       "541729    581570     22505            MEMO BOARD COTTAGE DESIGN         4   \n",
       "541730    581570      POST                              POSTAGE         1   \n",
       "\n",
       "            InvoiceDate  UnitPrice  CustomerID  Country  \n",
       "1109    12/1/2010 13:04       2.95     12662.0  Germany  \n",
       "1110    12/1/2010 13:04       2.55     12662.0  Germany  \n",
       "1111    12/1/2010 13:04       0.85     12662.0  Germany  \n",
       "1112    12/1/2010 13:04       1.65     12662.0  Germany  \n",
       "1113    12/1/2010 13:04       1.95     12662.0  Germany  \n",
       "...                 ...        ...         ...      ...  \n",
       "541726  12/9/2011 11:59       4.95     12662.0  Germany  \n",
       "541727  12/9/2011 11:59       1.25     12662.0  Germany  \n",
       "541728  12/9/2011 11:59       7.95     12662.0  Germany  \n",
       "541729  12/9/2011 11:59       4.95     12662.0  Germany  \n",
       "541730  12/9/2011 11:59      18.00     12662.0  Germany  \n",
       "\n",
       "[4693 rows x 8 columns]"
      ]
     },
     "execution_count": 11,
     "metadata": {},
     "output_type": "execute_result"
    }
   ],
   "source": [
    "top_retail_germany =  retail[retail['CustomerID'].isin(germany_top)]\n",
    "top_retail_germany"
   ]
  },
  {
   "cell_type": "markdown",
   "id": "04c2eb7f",
   "metadata": {},
   "source": [
    "6) Сгруппируйте *top_retail_germany* по коду товара (*StockCode*). Какой из продуктов добавляли в корзину чаще всего, кроме POST? \n",
    "\n",
    "Note: одним заказом считается единовременная покупка любого количества товара, т.е. без учета *Quantity*."
   ]
  },
  {
   "cell_type": "code",
   "execution_count": 7,
   "id": "5ddaec9e",
   "metadata": {},
   "outputs": [
    {
     "data": {
      "text/html": [
       "<div>\n",
       "<style scoped>\n",
       "    .dataframe tbody tr th:only-of-type {\n",
       "        vertical-align: middle;\n",
       "    }\n",
       "\n",
       "    .dataframe tbody tr th {\n",
       "        vertical-align: top;\n",
       "    }\n",
       "\n",
       "    .dataframe thead th {\n",
       "        text-align: right;\n",
       "    }\n",
       "</style>\n",
       "<table border=\"1\" class=\"dataframe\">\n",
       "  <thead>\n",
       "    <tr style=\"text-align: right;\">\n",
       "      <th></th>\n",
       "      <th>InvoiceNo</th>\n",
       "    </tr>\n",
       "    <tr>\n",
       "      <th>StockCode</th>\n",
       "      <th></th>\n",
       "    </tr>\n",
       "  </thead>\n",
       "  <tbody>\n",
       "    <tr>\n",
       "      <th>POST</th>\n",
       "      <td>219</td>\n",
       "    </tr>\n",
       "    <tr>\n",
       "      <th>22326</th>\n",
       "      <td>62</td>\n",
       "    </tr>\n",
       "  </tbody>\n",
       "</table>\n",
       "</div>"
      ],
      "text/plain": [
       "           InvoiceNo\n",
       "StockCode           \n",
       "POST             219\n",
       "22326             62"
      ]
     },
     "execution_count": 7,
     "metadata": {},
     "output_type": "execute_result"
    }
   ],
   "source": [
    "top_retail_germany.groupby('StockCode').agg({'InvoiceNo' : 'count'}).nlargest(2, 'InvoiceNo')"
   ]
  },
  {
   "cell_type": "code",
   "execution_count": 10,
   "id": "6eee1deb",
   "metadata": {},
   "outputs": [
    {
     "data": {
      "text/plain": [
       "InvoiceNo      0\n",
       "StockCode      0\n",
       "Description    0\n",
       "Quantity       0\n",
       "InvoiceDate    0\n",
       "UnitPrice      0\n",
       "CustomerID     0\n",
       "Country        0\n",
       "dtype: int64"
      ]
     },
     "execution_count": 10,
     "metadata": {},
     "output_type": "execute_result"
    }
   ],
   "source": [
    "top_retail_germany.isna().sum()"
   ]
  },
  {
   "cell_type": "markdown",
   "id": "6bf24e37",
   "metadata": {},
   "source": [
    "7) Вернемся к анализу полного датасета *retail*. Создайте колонку *Revenue* с суммой покупки, используя колонки *Quantity* и *UnitPrice*"
   ]
  },
  {
   "cell_type": "code",
   "execution_count": 68,
   "id": "2d926e95",
   "metadata": {},
   "outputs": [],
   "source": [
    "retail = retail.assign(Revenue = retail.UnitPrice * retail.Quantity)"
   ]
  },
  {
   "cell_type": "markdown",
   "id": "f20c0e5e",
   "metadata": {},
   "source": [
    "8) Для каждой транзакции (*InvoiceNo*), посчитайте финальную сумму заказа. В качестве ответа укажите топ-5 (*InvoiceNo*) по сумме заказа (через запятую с пробелом и в порядке убывания *TotalRevenue*)"
   ]
  },
  {
   "cell_type": "code",
   "execution_count": 73,
   "id": "f54fac40",
   "metadata": {},
   "outputs": [
    {
     "data": {
      "text/plain": [
       "Index(['581483', '541431', '574941', '576365', '556444'], dtype='object', name='InvoiceNo')"
      ]
     },
     "execution_count": 73,
     "metadata": {},
     "output_type": "execute_result"
    }
   ],
   "source": [
    "retail.groupby('InvoiceNo') \\\n",
    "    .agg({'Revenue' : 'sum'}) \\\n",
    "    .nlargest(5, 'Revenue') \\\n",
    "    .index"
   ]
  },
  {
   "cell_type": "markdown",
   "id": "44d7cc09",
   "metadata": {},
   "source": [
    "## Минипроект"
   ]
  },
  {
   "cell_type": "markdown",
   "id": "f573a6ef",
   "metadata": {},
   "source": [
    "#### Описание данных  \n",
    "Имеются следующие данные:\n",
    "\n",
    "**date** – дата (2020-03-02 00:00:00 – 2020-03-02 01:29:05)  \n",
    "**name** – имя пользователя  \n",
    "**transaction** – статус транзакции  \n",
    "**minute** – сколько минут прошло с начала дня  \n"
   ]
  },
  {
   "cell_type": "code",
   "execution_count": 75,
   "id": "3cd7984e",
   "metadata": {},
   "outputs": [
    {
     "data": {
      "text/html": [
       "<div>\n",
       "<style scoped>\n",
       "    .dataframe tbody tr th:only-of-type {\n",
       "        vertical-align: middle;\n",
       "    }\n",
       "\n",
       "    .dataframe tbody tr th {\n",
       "        vertical-align: top;\n",
       "    }\n",
       "\n",
       "    .dataframe thead th {\n",
       "        text-align: right;\n",
       "    }\n",
       "</style>\n",
       "<table border=\"1\" class=\"dataframe\">\n",
       "  <thead>\n",
       "    <tr style=\"text-align: right;\">\n",
       "      <th></th>\n",
       "      <th>date</th>\n",
       "      <th>name</th>\n",
       "      <th>transaction</th>\n",
       "    </tr>\n",
       "  </thead>\n",
       "  <tbody>\n",
       "    <tr>\n",
       "      <th>0</th>\n",
       "      <td>2020-03-02 00:37:20</td>\n",
       "      <td>Ekaterina_Petrova</td>\n",
       "      <td>cancelled</td>\n",
       "    </tr>\n",
       "    <tr>\n",
       "      <th>1</th>\n",
       "      <td>2020-03-02 00:59:09</td>\n",
       "      <td>Irina_Fedorova</td>\n",
       "      <td>successfull</td>\n",
       "    </tr>\n",
       "    <tr>\n",
       "      <th>2</th>\n",
       "      <td>2020-03-02 01:06:14</td>\n",
       "      <td>Ekaterina_Smirnova</td>\n",
       "      <td>successfull</td>\n",
       "    </tr>\n",
       "    <tr>\n",
       "      <th>3</th>\n",
       "      <td>2020-03-02 00:02:58</td>\n",
       "      <td>Lolita_Polyanova</td>\n",
       "      <td>cancelled</td>\n",
       "    </tr>\n",
       "    <tr>\n",
       "      <th>4</th>\n",
       "      <td>2020-03-02 00:17:52</td>\n",
       "      <td>Julia_Smirnova</td>\n",
       "      <td>cancelled</td>\n",
       "    </tr>\n",
       "    <tr>\n",
       "      <th>...</th>\n",
       "      <td>...</td>\n",
       "      <td>...</td>\n",
       "      <td>...</td>\n",
       "    </tr>\n",
       "    <tr>\n",
       "      <th>5310</th>\n",
       "      <td>2020-03-02 00:09:28</td>\n",
       "      <td>Vasilisa_Fedorova</td>\n",
       "      <td>successfull</td>\n",
       "    </tr>\n",
       "    <tr>\n",
       "      <th>5311</th>\n",
       "      <td>2020-03-02 00:46:31</td>\n",
       "      <td>Vasilisa_Ozerova</td>\n",
       "      <td>successfull</td>\n",
       "    </tr>\n",
       "    <tr>\n",
       "      <th>5312</th>\n",
       "      <td>2020-03-02 00:16:38</td>\n",
       "      <td>Olga_Polyanova</td>\n",
       "      <td>successfull</td>\n",
       "    </tr>\n",
       "    <tr>\n",
       "      <th>5313</th>\n",
       "      <td>2020-03-02 00:13:00</td>\n",
       "      <td>Ekaterina_Smirnova</td>\n",
       "      <td>successfull</td>\n",
       "    </tr>\n",
       "    <tr>\n",
       "      <th>5314</th>\n",
       "      <td>2020-03-02 01:15:45</td>\n",
       "      <td>Irina_Fedorova</td>\n",
       "      <td>cancelled</td>\n",
       "    </tr>\n",
       "  </tbody>\n",
       "</table>\n",
       "<p>5315 rows × 3 columns</p>\n",
       "</div>"
      ],
      "text/plain": [
       "                     date                name  transaction\n",
       "0     2020-03-02 00:37:20   Ekaterina_Petrova    cancelled\n",
       "1     2020-03-02 00:59:09      Irina_Fedorova  successfull\n",
       "2     2020-03-02 01:06:14  Ekaterina_Smirnova  successfull\n",
       "3     2020-03-02 00:02:58    Lolita_Polyanova    cancelled\n",
       "4     2020-03-02 00:17:52      Julia_Smirnova    cancelled\n",
       "...                   ...                 ...          ...\n",
       "5310  2020-03-02 00:09:28   Vasilisa_Fedorova  successfull\n",
       "5311  2020-03-02 00:46:31    Vasilisa_Ozerova  successfull\n",
       "5312  2020-03-02 00:16:38      Olga_Polyanova  successfull\n",
       "5313  2020-03-02 00:13:00  Ekaterina_Smirnova  successfull\n",
       "5314  2020-03-02 01:15:45      Irina_Fedorova    cancelled\n",
       "\n",
       "[5315 rows x 3 columns]"
      ]
     },
     "execution_count": 75,
     "metadata": {},
     "output_type": "execute_result"
    }
   ],
   "source": [
    "transaction = pd.read_csv('transaction_data.csv')\n",
    "transaction"
   ]
  },
  {
   "cell_type": "markdown",
   "id": "af5bf1f8",
   "metadata": {},
   "source": [
    "1) Проверьте размер таблицы, типы переменных, число пропущенных значений и описательную статистику.\n",
    "\n",
    "Вопрос: сколько в датасете пропущенных значений?"
   ]
  },
  {
   "cell_type": "code",
   "execution_count": 77,
   "id": "e0f94cd5",
   "metadata": {},
   "outputs": [
    {
     "data": {
      "text/plain": [
       "date           object\n",
       "name           object\n",
       "transaction    object\n",
       "dtype: object"
      ]
     },
     "execution_count": 77,
     "metadata": {},
     "output_type": "execute_result"
    }
   ],
   "source": [
    "transaction.dtypes"
   ]
  },
  {
   "cell_type": "code",
   "execution_count": 78,
   "id": "32797a1d",
   "metadata": {},
   "outputs": [
    {
     "data": {
      "text/html": [
       "<div>\n",
       "<style scoped>\n",
       "    .dataframe tbody tr th:only-of-type {\n",
       "        vertical-align: middle;\n",
       "    }\n",
       "\n",
       "    .dataframe tbody tr th {\n",
       "        vertical-align: top;\n",
       "    }\n",
       "\n",
       "    .dataframe thead th {\n",
       "        text-align: right;\n",
       "    }\n",
       "</style>\n",
       "<table border=\"1\" class=\"dataframe\">\n",
       "  <thead>\n",
       "    <tr style=\"text-align: right;\">\n",
       "      <th></th>\n",
       "      <th>date</th>\n",
       "      <th>name</th>\n",
       "      <th>transaction</th>\n",
       "    </tr>\n",
       "  </thead>\n",
       "  <tbody>\n",
       "    <tr>\n",
       "      <th>count</th>\n",
       "      <td>5315</td>\n",
       "      <td>5315</td>\n",
       "      <td>5315</td>\n",
       "    </tr>\n",
       "    <tr>\n",
       "      <th>unique</th>\n",
       "      <td>3373</td>\n",
       "      <td>56</td>\n",
       "      <td>3</td>\n",
       "    </tr>\n",
       "    <tr>\n",
       "      <th>top</th>\n",
       "      <td>2020-03-02 00:33:10</td>\n",
       "      <td>Masha_Ozerova</td>\n",
       "      <td>successfull</td>\n",
       "    </tr>\n",
       "    <tr>\n",
       "      <th>freq</th>\n",
       "      <td>6</td>\n",
       "      <td>112</td>\n",
       "      <td>3692</td>\n",
       "    </tr>\n",
       "  </tbody>\n",
       "</table>\n",
       "</div>"
      ],
      "text/plain": [
       "                       date           name  transaction\n",
       "count                  5315           5315         5315\n",
       "unique                 3373             56            3\n",
       "top     2020-03-02 00:33:10  Masha_Ozerova  successfull\n",
       "freq                      6            112         3692"
      ]
     },
     "execution_count": 78,
     "metadata": {},
     "output_type": "execute_result"
    }
   ],
   "source": [
    "transaction.describe()"
   ]
  },
  {
   "cell_type": "code",
   "execution_count": 79,
   "id": "d39e45de",
   "metadata": {},
   "outputs": [
    {
     "data": {
      "text/plain": [
       "date           0\n",
       "name           0\n",
       "transaction    0\n",
       "dtype: int64"
      ]
     },
     "execution_count": 79,
     "metadata": {},
     "output_type": "execute_result"
    }
   ],
   "source": [
    "transaction.isna().sum()"
   ]
  },
  {
   "cell_type": "markdown",
   "id": "53ce16a8",
   "metadata": {},
   "source": [
    "2) Проверьте, какие значения принимает колонка *transaction* . Сколько наблюдений относятся к тому или иному уровню? Визуализируйте результат с помощью барплота.\n"
   ]
  },
  {
   "cell_type": "code",
   "execution_count": 121,
   "id": "241cf944",
   "metadata": {},
   "outputs": [
    {
     "data": {
      "text/plain": [
       "<AxesSubplot:xlabel='transaction', ylabel='count'>"
      ]
     },
     "execution_count": 121,
     "metadata": {},
     "output_type": "execute_result"
    },
    {
     "data": {
      "image/png": "[encoded data removed]",
      "text/plain": [
       "<Figure size 432x288 with 1 Axes>"
      ]
     },
     "metadata": {
      "needs_background": "light"
     },
     "output_type": "display_data"
    }
   ],
   "source": [
    "sns.countplot(x='transaction', data=transaction )"
   ]
  },
  {
   "cell_type": "markdown",
   "id": "16247183",
   "metadata": {},
   "source": [
    "3) Сколько произошло ошибок? "
   ]
  },
  {
   "cell_type": "code",
   "execution_count": 87,
   "id": "8e21964a",
   "metadata": {},
   "outputs": [
    {
     "data": {
      "text/plain": [
       "4"
      ]
     },
     "execution_count": 87,
     "metadata": {},
     "output_type": "execute_result"
    }
   ],
   "source": [
    "transaction.query('transaction == \"error\"').shape[0]"
   ]
  },
  {
   "cell_type": "markdown",
   "id": "eb1a0e48",
   "metadata": {},
   "source": [
    "4) Сколько транзакций осуществил каждый из пользователей? Осуществлёнными считаются транзакции со значением *successfull*\n",
    "\n",
    "Посмотрите на характеристики распределения, а затем постройте гистограмму числа успешных транзакций, совершённых каждым пользователем, где\n",
    "\n",
    "по оси **x** – число транзакций  \n",
    "по оси **y** – доля пользователей с таким числом транзакций  \n"
   ]
  },
  {
   "cell_type": "code",
   "execution_count": 90,
   "id": "7a11fa60",
   "metadata": {},
   "outputs": [],
   "source": [
    "user_transaction = transaction.query('transaction == \"successfull\"').groupby('name').agg({'date' : 'count'})"
   ]
  },
  {
   "cell_type": "code",
   "execution_count": 100,
   "id": "f7299a81",
   "metadata": {},
   "outputs": [
    {
     "data": {
      "text/plain": [
       "<AxesSubplot:xlabel='date', ylabel='Density'>"
      ]
     },
     "execution_count": 100,
     "metadata": {},
     "output_type": "execute_result"
    },
    {
     "data": {
      "image/png": "[encoded data removed]",
      "text/plain": [
       "<Figure size 1152x648 with 1 Axes>"
      ]
     },
     "metadata": {
      "needs_background": "light"
     },
     "output_type": "display_data"
    }
   ],
   "source": [
    "plt.figure(figsize=(16, 9))\n",
    "sns.histplot(x=user_transaction.date, stat='density', bins=50)"
   ]
  },
  {
   "cell_type": "code",
   "execution_count": 102,
   "id": "b478b0c5",
   "metadata": {},
   "outputs": [
    {
     "data": {
      "text/html": [
       "<div>\n",
       "<style scoped>\n",
       "    .dataframe tbody tr th:only-of-type {\n",
       "        vertical-align: middle;\n",
       "    }\n",
       "\n",
       "    .dataframe tbody tr th {\n",
       "        vertical-align: top;\n",
       "    }\n",
       "\n",
       "    .dataframe thead th {\n",
       "        text-align: right;\n",
       "    }\n",
       "</style>\n",
       "<table border=\"1\" class=\"dataframe\">\n",
       "  <thead>\n",
       "    <tr style=\"text-align: right;\">\n",
       "      <th></th>\n",
       "      <th>date</th>\n",
       "    </tr>\n",
       "  </thead>\n",
       "  <tbody>\n",
       "    <tr>\n",
       "      <th>count</th>\n",
       "      <td>56.0</td>\n",
       "    </tr>\n",
       "    <tr>\n",
       "      <th>mean</th>\n",
       "      <td>66.0</td>\n",
       "    </tr>\n",
       "    <tr>\n",
       "      <th>std</th>\n",
       "      <td>8.0</td>\n",
       "    </tr>\n",
       "    <tr>\n",
       "      <th>min</th>\n",
       "      <td>46.0</td>\n",
       "    </tr>\n",
       "    <tr>\n",
       "      <th>25%</th>\n",
       "      <td>61.0</td>\n",
       "    </tr>\n",
       "    <tr>\n",
       "      <th>50%</th>\n",
       "      <td>64.0</td>\n",
       "    </tr>\n",
       "    <tr>\n",
       "      <th>75%</th>\n",
       "      <td>72.0</td>\n",
       "    </tr>\n",
       "    <tr>\n",
       "      <th>max</th>\n",
       "      <td>82.0</td>\n",
       "    </tr>\n",
       "  </tbody>\n",
       "</table>\n",
       "</div>"
      ],
      "text/plain": [
       "       date\n",
       "count  56.0\n",
       "mean   66.0\n",
       "std     8.0\n",
       "min    46.0\n",
       "25%    61.0\n",
       "50%    64.0\n",
       "75%    72.0\n",
       "max    82.0"
      ]
     },
     "execution_count": 102,
     "metadata": {},
     "output_type": "execute_result"
    }
   ],
   "source": [
    "user_transaction.describe().round()"
   ]
  },
  {
   "cell_type": "markdown",
   "id": "03bd1751",
   "metadata": {},
   "source": [
    "5) К вам пришёл коллега с немного обновленными данными. Постройте сводную таблицу *user_vs_minute_pivot*, где:\n",
    "\n",
    "столбцы – имена пользователей  \n",
    "строки – минута времени осуществления операции (minute)  \n",
    "значения – число совершённых операций  \n",
    "\n",
    "Пропущенные значения заполните нулями.\n",
    "\n",
    "Note: фильтровать успешные транзакции не нужно - постройте табличку по всем"
   ]
  },
  {
   "cell_type": "code",
   "execution_count": 104,
   "id": "b0353cdb",
   "metadata": {},
   "outputs": [
    {
     "data": {
      "text/html": [
       "<div>\n",
       "<style scoped>\n",
       "    .dataframe tbody tr th:only-of-type {\n",
       "        vertical-align: middle;\n",
       "    }\n",
       "\n",
       "    .dataframe tbody tr th {\n",
       "        vertical-align: top;\n",
       "    }\n",
       "\n",
       "    .dataframe thead th {\n",
       "        text-align: right;\n",
       "    }\n",
       "</style>\n",
       "<table border=\"1\" class=\"dataframe\">\n",
       "  <thead>\n",
       "    <tr style=\"text-align: right;\">\n",
       "      <th></th>\n",
       "      <th>date</th>\n",
       "      <th>name</th>\n",
       "      <th>transaction</th>\n",
       "      <th>minute</th>\n",
       "    </tr>\n",
       "  </thead>\n",
       "  <tbody>\n",
       "    <tr>\n",
       "      <th>0</th>\n",
       "      <td>2020-03-02 00:37:20</td>\n",
       "      <td>Ekaterina_Petrova</td>\n",
       "      <td>cancelled</td>\n",
       "      <td>37</td>\n",
       "    </tr>\n",
       "    <tr>\n",
       "      <th>1</th>\n",
       "      <td>2020-03-02 00:59:09</td>\n",
       "      <td>Irina_Fedorova</td>\n",
       "      <td>successfull</td>\n",
       "      <td>59</td>\n",
       "    </tr>\n",
       "    <tr>\n",
       "      <th>2</th>\n",
       "      <td>2020-03-02 01:06:14</td>\n",
       "      <td>Ekaterina_Smirnova</td>\n",
       "      <td>successfull</td>\n",
       "      <td>6</td>\n",
       "    </tr>\n",
       "    <tr>\n",
       "      <th>3</th>\n",
       "      <td>2020-03-02 00:02:58</td>\n",
       "      <td>Lolita_Polyanova</td>\n",
       "      <td>cancelled</td>\n",
       "      <td>2</td>\n",
       "    </tr>\n",
       "    <tr>\n",
       "      <th>4</th>\n",
       "      <td>2020-03-02 00:17:52</td>\n",
       "      <td>Julia_Smirnova</td>\n",
       "      <td>cancelled</td>\n",
       "      <td>17</td>\n",
       "    </tr>\n",
       "    <tr>\n",
       "      <th>...</th>\n",
       "      <td>...</td>\n",
       "      <td>...</td>\n",
       "      <td>...</td>\n",
       "      <td>...</td>\n",
       "    </tr>\n",
       "    <tr>\n",
       "      <th>5310</th>\n",
       "      <td>2020-03-02 00:09:28</td>\n",
       "      <td>Vasilisa_Fedorova</td>\n",
       "      <td>successfull</td>\n",
       "      <td>9</td>\n",
       "    </tr>\n",
       "    <tr>\n",
       "      <th>5311</th>\n",
       "      <td>2020-03-02 00:46:31</td>\n",
       "      <td>Vasilisa_Ozerova</td>\n",
       "      <td>successfull</td>\n",
       "      <td>46</td>\n",
       "    </tr>\n",
       "    <tr>\n",
       "      <th>5312</th>\n",
       "      <td>2020-03-02 00:16:38</td>\n",
       "      <td>Olga_Polyanova</td>\n",
       "      <td>successfull</td>\n",
       "      <td>16</td>\n",
       "    </tr>\n",
       "    <tr>\n",
       "      <th>5313</th>\n",
       "      <td>2020-03-02 00:13:00</td>\n",
       "      <td>Ekaterina_Smirnova</td>\n",
       "      <td>successfull</td>\n",
       "      <td>13</td>\n",
       "    </tr>\n",
       "    <tr>\n",
       "      <th>5314</th>\n",
       "      <td>2020-03-02 01:15:45</td>\n",
       "      <td>Irina_Fedorova</td>\n",
       "      <td>cancelled</td>\n",
       "      <td>15</td>\n",
       "    </tr>\n",
       "  </tbody>\n",
       "</table>\n",
       "<p>5315 rows × 4 columns</p>\n",
       "</div>"
      ],
      "text/plain": [
       "                     date                name  transaction  minute\n",
       "0     2020-03-02 00:37:20   Ekaterina_Petrova    cancelled      37\n",
       "1     2020-03-02 00:59:09      Irina_Fedorova  successfull      59\n",
       "2     2020-03-02 01:06:14  Ekaterina_Smirnova  successfull       6\n",
       "3     2020-03-02 00:02:58    Lolita_Polyanova    cancelled       2\n",
       "4     2020-03-02 00:17:52      Julia_Smirnova    cancelled      17\n",
       "...                   ...                 ...          ...     ...\n",
       "5310  2020-03-02 00:09:28   Vasilisa_Fedorova  successfull       9\n",
       "5311  2020-03-02 00:46:31    Vasilisa_Ozerova  successfull      46\n",
       "5312  2020-03-02 00:16:38      Olga_Polyanova  successfull      16\n",
       "5313  2020-03-02 00:13:00  Ekaterina_Smirnova  successfull      13\n",
       "5314  2020-03-02 01:15:45      Irina_Fedorova    cancelled      15\n",
       "\n",
       "[5315 rows x 4 columns]"
      ]
     },
     "execution_count": 104,
     "metadata": {},
     "output_type": "execute_result"
    }
   ],
   "source": [
    "update_transaction = pd.read_csv('transaction_data_updated.csv')\n",
    "update_transaction"
   ]
  },
  {
   "cell_type": "code",
   "execution_count": 112,
   "id": "9fd25fa9",
   "metadata": {},
   "outputs": [
    {
     "data": {
      "text/html": [
       "<div>\n",
       "<style scoped>\n",
       "    .dataframe tbody tr th:only-of-type {\n",
       "        vertical-align: middle;\n",
       "    }\n",
       "\n",
       "    .dataframe tbody tr th {\n",
       "        vertical-align: top;\n",
       "    }\n",
       "\n",
       "    .dataframe thead th {\n",
       "        text-align: right;\n",
       "    }\n",
       "</style>\n",
       "<table border=\"1\" class=\"dataframe\">\n",
       "  <thead>\n",
       "    <tr style=\"text-align: right;\">\n",
       "      <th>name</th>\n",
       "      <th>minute</th>\n",
       "      <th>Ekaterina_Fedorova</th>\n",
       "      <th>Ekaterina_Ivanova</th>\n",
       "      <th>Ekaterina_Lesnova</th>\n",
       "      <th>Ekaterina_Ozerova</th>\n",
       "      <th>Ekaterina_Petrova</th>\n",
       "      <th>Ekaterina_Polyanova</th>\n",
       "      <th>Ekaterina_Smirnova</th>\n",
       "      <th>Irina_Fedorova</th>\n",
       "      <th>Irina_Ivanova</th>\n",
       "      <th>...</th>\n",
       "      <th>Svetlana_Petrova</th>\n",
       "      <th>Svetlana_Polyanova</th>\n",
       "      <th>Svetlana_Smirnova</th>\n",
       "      <th>Vasilisa_Fedorova</th>\n",
       "      <th>Vasilisa_Ivanova</th>\n",
       "      <th>Vasilisa_Lesnova</th>\n",
       "      <th>Vasilisa_Ozerova</th>\n",
       "      <th>Vasilisa_Petrova</th>\n",
       "      <th>Vasilisa_Polyanova</th>\n",
       "      <th>Vasilisa_Smirnova</th>\n",
       "    </tr>\n",
       "  </thead>\n",
       "  <tbody>\n",
       "    <tr>\n",
       "      <th>0</th>\n",
       "      <td>0</td>\n",
       "      <td>3.0</td>\n",
       "      <td>4.0</td>\n",
       "      <td>2.0</td>\n",
       "      <td>3.0</td>\n",
       "      <td>4.0</td>\n",
       "      <td>4.0</td>\n",
       "      <td>2.0</td>\n",
       "      <td>1.0</td>\n",
       "      <td>2.0</td>\n",
       "      <td>...</td>\n",
       "      <td>0.0</td>\n",
       "      <td>3.0</td>\n",
       "      <td>1.0</td>\n",
       "      <td>1.0</td>\n",
       "      <td>4.0</td>\n",
       "      <td>1.0</td>\n",
       "      <td>3.0</td>\n",
       "      <td>0.0</td>\n",
       "      <td>0.0</td>\n",
       "      <td>1.0</td>\n",
       "    </tr>\n",
       "    <tr>\n",
       "      <th>1</th>\n",
       "      <td>1</td>\n",
       "      <td>4.0</td>\n",
       "      <td>4.0</td>\n",
       "      <td>0.0</td>\n",
       "      <td>4.0</td>\n",
       "      <td>2.0</td>\n",
       "      <td>5.0</td>\n",
       "      <td>4.0</td>\n",
       "      <td>4.0</td>\n",
       "      <td>4.0</td>\n",
       "      <td>...</td>\n",
       "      <td>4.0</td>\n",
       "      <td>5.0</td>\n",
       "      <td>3.0</td>\n",
       "      <td>2.0</td>\n",
       "      <td>3.0</td>\n",
       "      <td>3.0</td>\n",
       "      <td>0.0</td>\n",
       "      <td>0.0</td>\n",
       "      <td>3.0</td>\n",
       "      <td>2.0</td>\n",
       "    </tr>\n",
       "    <tr>\n",
       "      <th>2</th>\n",
       "      <td>2</td>\n",
       "      <td>1.0</td>\n",
       "      <td>2.0</td>\n",
       "      <td>4.0</td>\n",
       "      <td>4.0</td>\n",
       "      <td>2.0</td>\n",
       "      <td>1.0</td>\n",
       "      <td>3.0</td>\n",
       "      <td>2.0</td>\n",
       "      <td>3.0</td>\n",
       "      <td>...</td>\n",
       "      <td>4.0</td>\n",
       "      <td>1.0</td>\n",
       "      <td>3.0</td>\n",
       "      <td>3.0</td>\n",
       "      <td>0.0</td>\n",
       "      <td>1.0</td>\n",
       "      <td>2.0</td>\n",
       "      <td>1.0</td>\n",
       "      <td>3.0</td>\n",
       "      <td>1.0</td>\n",
       "    </tr>\n",
       "    <tr>\n",
       "      <th>3</th>\n",
       "      <td>3</td>\n",
       "      <td>3.0</td>\n",
       "      <td>0.0</td>\n",
       "      <td>2.0</td>\n",
       "      <td>0.0</td>\n",
       "      <td>5.0</td>\n",
       "      <td>2.0</td>\n",
       "      <td>1.0</td>\n",
       "      <td>3.0</td>\n",
       "      <td>2.0</td>\n",
       "      <td>...</td>\n",
       "      <td>1.0</td>\n",
       "      <td>5.0</td>\n",
       "      <td>5.0</td>\n",
       "      <td>2.0</td>\n",
       "      <td>4.0</td>\n",
       "      <td>0.0</td>\n",
       "      <td>3.0</td>\n",
       "      <td>4.0</td>\n",
       "      <td>1.0</td>\n",
       "      <td>0.0</td>\n",
       "    </tr>\n",
       "    <tr>\n",
       "      <th>4</th>\n",
       "      <td>4</td>\n",
       "      <td>3.0</td>\n",
       "      <td>0.0</td>\n",
       "      <td>0.0</td>\n",
       "      <td>3.0</td>\n",
       "      <td>1.0</td>\n",
       "      <td>1.0</td>\n",
       "      <td>2.0</td>\n",
       "      <td>3.0</td>\n",
       "      <td>2.0</td>\n",
       "      <td>...</td>\n",
       "      <td>1.0</td>\n",
       "      <td>2.0</td>\n",
       "      <td>2.0</td>\n",
       "      <td>1.0</td>\n",
       "      <td>1.0</td>\n",
       "      <td>2.0</td>\n",
       "      <td>2.0</td>\n",
       "      <td>3.0</td>\n",
       "      <td>0.0</td>\n",
       "      <td>1.0</td>\n",
       "    </tr>\n",
       "  </tbody>\n",
       "</table>\n",
       "<p>5 rows × 57 columns</p>\n",
       "</div>"
      ],
      "text/plain": [
       "name  minute  Ekaterina_Fedorova  Ekaterina_Ivanova  Ekaterina_Lesnova  \\\n",
       "0          0                 3.0                4.0                2.0   \n",
       "1          1                 4.0                4.0                0.0   \n",
       "2          2                 1.0                2.0                4.0   \n",
       "3          3                 3.0                0.0                2.0   \n",
       "4          4                 3.0                0.0                0.0   \n",
       "\n",
       "name  Ekaterina_Ozerova  Ekaterina_Petrova  Ekaterina_Polyanova  \\\n",
       "0                   3.0                4.0                  4.0   \n",
       "1                   4.0                2.0                  5.0   \n",
       "2                   4.0                2.0                  1.0   \n",
       "3                   0.0                5.0                  2.0   \n",
       "4                   3.0                1.0                  1.0   \n",
       "\n",
       "name  Ekaterina_Smirnova  Irina_Fedorova  Irina_Ivanova  ...  \\\n",
       "0                    2.0             1.0            2.0  ...   \n",
       "1                    4.0             4.0            4.0  ...   \n",
       "2                    3.0             2.0            3.0  ...   \n",
       "3                    1.0             3.0            2.0  ...   \n",
       "4                    2.0             3.0            2.0  ...   \n",
       "\n",
       "name  Svetlana_Petrova  Svetlana_Polyanova  Svetlana_Smirnova  \\\n",
       "0                  0.0                 3.0                1.0   \n",
       "1                  4.0                 5.0                3.0   \n",
       "2                  4.0                 1.0                3.0   \n",
       "3                  1.0                 5.0                5.0   \n",
       "4                  1.0                 2.0                2.0   \n",
       "\n",
       "name  Vasilisa_Fedorova  Vasilisa_Ivanova  Vasilisa_Lesnova  Vasilisa_Ozerova  \\\n",
       "0                   1.0               4.0               1.0               3.0   \n",
       "1                   2.0               3.0               3.0               0.0   \n",
       "2                   3.0               0.0               1.0               2.0   \n",
       "3                   2.0               4.0               0.0               3.0   \n",
       "4                   1.0               1.0               2.0               2.0   \n",
       "\n",
       "name  Vasilisa_Petrova  Vasilisa_Polyanova  Vasilisa_Smirnova  \n",
       "0                  0.0                 0.0                1.0  \n",
       "1                  0.0                 3.0                2.0  \n",
       "2                  1.0                 3.0                1.0  \n",
       "3                  4.0                 1.0                0.0  \n",
       "4                  3.0                 0.0                1.0  \n",
       "\n",
       "[5 rows x 57 columns]"
      ]
     },
     "execution_count": 112,
     "metadata": {},
     "output_type": "execute_result"
    }
   ],
   "source": [
    "user_vs_minute_pivot = update_transaction.groupby(['name', 'minute'], as_index=False) \\\n",
    "    .agg({'transaction' : 'count'}) \\\n",
    "    .pivot(index='minute', columns='name', values='transaction').fillna(0).reset_index()\n",
    "user_vs_minute_pivot.head()"
   ]
  },
  {
   "cell_type": "markdown",
   "id": "dfdfb5ef",
   "metadata": {},
   "source": [
    "6) Исправьте ошибку коллеги, и посчитайте число минут, прошедших с начала дня. Результат сохраните в колонку *true_minute*"
   ]
  },
  {
   "cell_type": "code",
   "execution_count": 116,
   "id": "97315533",
   "metadata": {},
   "outputs": [
    {
     "data": {
      "text/plain": [
       "date           object\n",
       "name           object\n",
       "transaction    object\n",
       "minute          int64\n",
       "dtype: object"
      ]
     },
     "execution_count": 116,
     "metadata": {},
     "output_type": "execute_result"
    }
   ],
   "source": [
    "update_transaction.dtypes"
   ]
  },
  {
   "cell_type": "code",
   "execution_count": 117,
   "id": "2538a272",
   "metadata": {},
   "outputs": [],
   "source": [
    "update_transaction['date'] = pd.to_datetime(update_transaction['date'])"
   ]
  },
  {
   "cell_type": "code",
   "execution_count": 119,
   "id": "c18999be",
   "metadata": {},
   "outputs": [],
   "source": [
    "update_transaction = update_transaction.assign(\n",
    "    true_minute = update_transaction.date.dt.hour.mul(60) + update_transaction.date.dt.minute\n",
    ")"
   ]
  },
  {
   "cell_type": "markdown",
   "id": "8a8199bc",
   "metadata": {},
   "source": [
    "## Дополнительный проект"
   ]
  },
  {
   "cell_type": "markdown",
   "id": "d1043127",
   "metadata": {},
   "source": [
    "В папке subsid (shared/homeworks/python_ds_miniprojects/5_subsid) находятся файлы (tm_sales_1, tm_sales_2, ...) с продажами продуктов через телемаркетинг. Каждый файл содержит, как минимум, 4 колонки (поля): *FILIAL_ID*, *SUBS_ID*, *PROD_ID*, *ACT_DTTM*.\n",
    "\n",
    "Суть задачи в том, чтобы проверить подключения продуктов определенным пользователям, соединив файлы о продажах с логами по подключениям в системе.\n",
    "\n",
    "Особенности данных:\n",
    "\n",
    "- сотрудники телемаркетинга не всегда указывают полный id, если 'id' нет в начале *SUBS_ID*, то нужно его добавить\n",
    "- поля в файлах могут быть расположены абсолютно случайным образом, но названия полей статичны\n",
    "- продажа не засчитывается, если отключение (*END_DTTM*) произошло меньше чем через 5 минут после подключения (*START_DTTM*)\n",
    "- если в файле с продажами встречается строка без указанного *SUBS_ID*, она пропускается\n",
    "\n",
    "Сохраните результат в датафрэйм с разделителем *;*, содержащий корректные подключения."
   ]
  },
  {
   "cell_type": "code",
   "execution_count": 18,
   "id": "37770552",
   "metadata": {},
   "outputs": [],
   "source": [
    "files = os.listdir('subsid')"
   ]
  },
  {
   "cell_type": "code",
   "execution_count": 23,
   "id": "ea3c3847",
   "metadata": {},
   "outputs": [
    {
     "data": {
      "text/html": [
       "<div>\n",
       "<style scoped>\n",
       "    .dataframe tbody tr th:only-of-type {\n",
       "        vertical-align: middle;\n",
       "    }\n",
       "\n",
       "    .dataframe tbody tr th {\n",
       "        vertical-align: top;\n",
       "    }\n",
       "\n",
       "    .dataframe thead th {\n",
       "        text-align: right;\n",
       "    }\n",
       "</style>\n",
       "<table border=\"1\" class=\"dataframe\">\n",
       "  <thead>\n",
       "    <tr style=\"text-align: right;\">\n",
       "      <th></th>\n",
       "      <th>SUBS_ID</th>\n",
       "      <th>FILIAL_ID</th>\n",
       "      <th>PROD_ID</th>\n",
       "      <th>ACT_DTTM</th>\n",
       "    </tr>\n",
       "  </thead>\n",
       "  <tbody>\n",
       "    <tr>\n",
       "      <th>0</th>\n",
       "      <td>id4651830</td>\n",
       "      <td>1</td>\n",
       "      <td>1954</td>\n",
       "      <td>20-03-2020 14:59</td>\n",
       "    </tr>\n",
       "    <tr>\n",
       "      <th>1</th>\n",
       "      <td>7646509</td>\n",
       "      <td>5</td>\n",
       "      <td>6431</td>\n",
       "      <td>19-03-2020 13:00</td>\n",
       "    </tr>\n",
       "    <tr>\n",
       "      <th>2</th>\n",
       "      <td>id7412683</td>\n",
       "      <td>4</td>\n",
       "      <td>3313</td>\n",
       "      <td>22-03-2020 17:25</td>\n",
       "    </tr>\n",
       "    <tr>\n",
       "      <th>3</th>\n",
       "      <td>id5416547</td>\n",
       "      <td>3</td>\n",
       "      <td>1743</td>\n",
       "      <td>17-03-2020 10:17</td>\n",
       "    </tr>\n",
       "    <tr>\n",
       "      <th>4</th>\n",
       "      <td>NaN</td>\n",
       "      <td>4</td>\n",
       "      <td>7421</td>\n",
       "      <td>12-03-2020 11:25</td>\n",
       "    </tr>\n",
       "    <tr>\n",
       "      <th>5</th>\n",
       "      <td>8362218</td>\n",
       "      <td>7</td>\n",
       "      <td>9879</td>\n",
       "      <td>05-03-2020 11:42</td>\n",
       "    </tr>\n",
       "    <tr>\n",
       "      <th>6</th>\n",
       "      <td>2185490</td>\n",
       "      <td>2</td>\n",
       "      <td>3210</td>\n",
       "      <td>16-03-2020 16:28</td>\n",
       "    </tr>\n",
       "    <tr>\n",
       "      <th>7</th>\n",
       "      <td>id5764122</td>\n",
       "      <td>3</td>\n",
       "      <td>1499</td>\n",
       "      <td>18-03-2020 15:44</td>\n",
       "    </tr>\n",
       "    <tr>\n",
       "      <th>8</th>\n",
       "      <td>id7642700</td>\n",
       "      <td>6</td>\n",
       "      <td>3020</td>\n",
       "      <td>15-03-2020 14:21</td>\n",
       "    </tr>\n",
       "    <tr>\n",
       "      <th>9</th>\n",
       "      <td>id1374509</td>\n",
       "      <td>2</td>\n",
       "      <td>5677</td>\n",
       "      <td>17-03-2020 11:48</td>\n",
       "    </tr>\n",
       "  </tbody>\n",
       "</table>\n",
       "</div>"
      ],
      "text/plain": [
       "     SUBS_ID  FILIAL_ID  PROD_ID          ACT_DTTM\n",
       "0  id4651830          1     1954  20-03-2020 14:59\n",
       "1    7646509          5     6431  19-03-2020 13:00\n",
       "2  id7412683          4     3313  22-03-2020 17:25\n",
       "3  id5416547          3     1743  17-03-2020 10:17\n",
       "4        NaN          4     7421  12-03-2020 11:25\n",
       "5    8362218          7     9879  05-03-2020 11:42\n",
       "6    2185490          2     3210  16-03-2020 16:28\n",
       "7  id5764122          3     1499  18-03-2020 15:44\n",
       "8  id7642700          6     3020  15-03-2020 14:21\n",
       "9  id1374509          2     5677  17-03-2020 11:48"
      ]
     },
     "execution_count": 23,
     "metadata": {},
     "output_type": "execute_result"
    }
   ],
   "source": [
    "#считываем 3 сsv и объединяем в 1\n",
    "arr = []\n",
    "for i in files[:3]:\n",
    "    arr.append(pd.read_csv(f'subsid\\\\{i}', sep=';'))\n",
    "subset = pd.concat(arr[:]).reset_index(drop=True)\n",
    "subset"
   ]
  },
  {
   "cell_type": "code",
   "execution_count": 24,
   "id": "9aa19a09",
   "metadata": {},
   "outputs": [],
   "source": [
    "#удаляем пропуски в SUBS_ID\n",
    "subset.dropna(subset='SUBS_ID', inplace=True)"
   ]
  },
  {
   "cell_type": "code",
   "execution_count": 25,
   "id": "9214bf91",
   "metadata": {},
   "outputs": [
    {
     "data": {
      "text/html": [
       "<div>\n",
       "<style scoped>\n",
       "    .dataframe tbody tr th:only-of-type {\n",
       "        vertical-align: middle;\n",
       "    }\n",
       "\n",
       "    .dataframe tbody tr th {\n",
       "        vertical-align: top;\n",
       "    }\n",
       "\n",
       "    .dataframe thead th {\n",
       "        text-align: right;\n",
       "    }\n",
       "</style>\n",
       "<table border=\"1\" class=\"dataframe\">\n",
       "  <thead>\n",
       "    <tr style=\"text-align: right;\">\n",
       "      <th></th>\n",
       "      <th>SUBS_ID</th>\n",
       "      <th>FILIAL_ID</th>\n",
       "      <th>PROD_ID</th>\n",
       "      <th>ACT_DTTM</th>\n",
       "    </tr>\n",
       "  </thead>\n",
       "  <tbody>\n",
       "    <tr>\n",
       "      <th>0</th>\n",
       "      <td>id4651830</td>\n",
       "      <td>1</td>\n",
       "      <td>1954</td>\n",
       "      <td>20-03-2020 14:59</td>\n",
       "    </tr>\n",
       "    <tr>\n",
       "      <th>1</th>\n",
       "      <td>id7646509</td>\n",
       "      <td>5</td>\n",
       "      <td>6431</td>\n",
       "      <td>19-03-2020 13:00</td>\n",
       "    </tr>\n",
       "    <tr>\n",
       "      <th>2</th>\n",
       "      <td>id7412683</td>\n",
       "      <td>4</td>\n",
       "      <td>3313</td>\n",
       "      <td>22-03-2020 17:25</td>\n",
       "    </tr>\n",
       "    <tr>\n",
       "      <th>3</th>\n",
       "      <td>id5416547</td>\n",
       "      <td>3</td>\n",
       "      <td>1743</td>\n",
       "      <td>17-03-2020 10:17</td>\n",
       "    </tr>\n",
       "    <tr>\n",
       "      <th>5</th>\n",
       "      <td>id8362218</td>\n",
       "      <td>7</td>\n",
       "      <td>9879</td>\n",
       "      <td>05-03-2020 11:42</td>\n",
       "    </tr>\n",
       "    <tr>\n",
       "      <th>6</th>\n",
       "      <td>id2185490</td>\n",
       "      <td>2</td>\n",
       "      <td>3210</td>\n",
       "      <td>16-03-2020 16:28</td>\n",
       "    </tr>\n",
       "    <tr>\n",
       "      <th>7</th>\n",
       "      <td>id5764122</td>\n",
       "      <td>3</td>\n",
       "      <td>1499</td>\n",
       "      <td>18-03-2020 15:44</td>\n",
       "    </tr>\n",
       "    <tr>\n",
       "      <th>8</th>\n",
       "      <td>id7642700</td>\n",
       "      <td>6</td>\n",
       "      <td>3020</td>\n",
       "      <td>15-03-2020 14:21</td>\n",
       "    </tr>\n",
       "    <tr>\n",
       "      <th>9</th>\n",
       "      <td>id1374509</td>\n",
       "      <td>2</td>\n",
       "      <td>5677</td>\n",
       "      <td>17-03-2020 11:48</td>\n",
       "    </tr>\n",
       "  </tbody>\n",
       "</table>\n",
       "</div>"
      ],
      "text/plain": [
       "     SUBS_ID  FILIAL_ID  PROD_ID          ACT_DTTM\n",
       "0  id4651830          1     1954  20-03-2020 14:59\n",
       "1  id7646509          5     6431  19-03-2020 13:00\n",
       "2  id7412683          4     3313  22-03-2020 17:25\n",
       "3  id5416547          3     1743  17-03-2020 10:17\n",
       "5  id8362218          7     9879  05-03-2020 11:42\n",
       "6  id2185490          2     3210  16-03-2020 16:28\n",
       "7  id5764122          3     1499  18-03-2020 15:44\n",
       "8  id7642700          6     3020  15-03-2020 14:21\n",
       "9  id1374509          2     5677  17-03-2020 11:48"
      ]
     },
     "execution_count": 25,
     "metadata": {},
     "output_type": "execute_result"
    }
   ],
   "source": [
    "#добавляем id там, где его нет\n",
    "subset.SUBS_ID = subset.SUBS_ID.apply(lambda c: f'id{c}' if not str(c).startswith('id') else c)\n",
    "subset"
   ]
  },
  {
   "cell_type": "code",
   "execution_count": 234,
   "id": "8406d2a4",
   "metadata": {},
   "outputs": [
    {
     "data": {
      "text/html": [
       "<div>\n",
       "<style scoped>\n",
       "    .dataframe tbody tr th:only-of-type {\n",
       "        vertical-align: middle;\n",
       "    }\n",
       "\n",
       "    .dataframe tbody tr th {\n",
       "        vertical-align: top;\n",
       "    }\n",
       "\n",
       "    .dataframe thead th {\n",
       "        text-align: right;\n",
       "    }\n",
       "</style>\n",
       "<table border=\"1\" class=\"dataframe\">\n",
       "  <thead>\n",
       "    <tr style=\"text-align: right;\">\n",
       "      <th></th>\n",
       "      <th>SUBS_ID</th>\n",
       "      <th>PROD_ID</th>\n",
       "      <th>START_DTTM</th>\n",
       "      <th>END_DTTM</th>\n",
       "    </tr>\n",
       "  </thead>\n",
       "  <tbody>\n",
       "    <tr>\n",
       "      <th>1</th>\n",
       "      <td>id4651830</td>\n",
       "      <td>1954</td>\n",
       "      <td>20-03-2020 14:59</td>\n",
       "      <td>01-12-2020 00:00</td>\n",
       "    </tr>\n",
       "    <tr>\n",
       "      <th>5</th>\n",
       "      <td>id7646509</td>\n",
       "      <td>6431</td>\n",
       "      <td>19-03-2020 13:00</td>\n",
       "      <td>19-03-2020 13:03</td>\n",
       "    </tr>\n",
       "    <tr>\n",
       "      <th>2</th>\n",
       "      <td>id7461794</td>\n",
       "      <td>3310</td>\n",
       "      <td>20-03-2020 17:25</td>\n",
       "      <td>01-12-2020 00:00</td>\n",
       "    </tr>\n",
       "    <tr>\n",
       "      <th>3</th>\n",
       "      <td>id5416547</td>\n",
       "      <td>1743</td>\n",
       "      <td>17-03-2020 10:17</td>\n",
       "      <td>25-03-2020 11:00</td>\n",
       "    </tr>\n",
       "    <tr>\n",
       "      <th>4</th>\n",
       "      <td>id8238421</td>\n",
       "      <td>1859</td>\n",
       "      <td>01-03-2020 11:42</td>\n",
       "      <td>01-03-2020 11:43</td>\n",
       "    </tr>\n",
       "    <tr>\n",
       "      <th>3</th>\n",
       "      <td>id8641743</td>\n",
       "      <td>2752</td>\n",
       "      <td>20-03-2020 15:44</td>\n",
       "      <td>21-04-2020 15:44</td>\n",
       "    </tr>\n",
       "    <tr>\n",
       "      <th>2</th>\n",
       "      <td>id2185490</td>\n",
       "      <td>3210</td>\n",
       "      <td>16-03-2020 16:28</td>\n",
       "      <td>01-12-2020 00:00</td>\n",
       "    </tr>\n",
       "    <tr>\n",
       "      <th>6</th>\n",
       "      <td>id7642700</td>\n",
       "      <td>3020</td>\n",
       "      <td>15-03-2020 14:21</td>\n",
       "      <td>15-03-2020 23:42</td>\n",
       "    </tr>\n",
       "    <tr>\n",
       "      <th>2</th>\n",
       "      <td>id8741631</td>\n",
       "      <td>5677</td>\n",
       "      <td>19-03-2020 12:28</td>\n",
       "      <td>01-12-2020 00:00</td>\n",
       "    </tr>\n",
       "  </tbody>\n",
       "</table>\n",
       "</div>"
      ],
      "text/plain": [
       "     SUBS_ID  PROD_ID        START_DTTM          END_DTTM\n",
       "1  id4651830     1954  20-03-2020 14:59  01-12-2020 00:00\n",
       "5  id7646509     6431  19-03-2020 13:00  19-03-2020 13:03\n",
       "2  id7461794     3310  20-03-2020 17:25  01-12-2020 00:00\n",
       "3  id5416547     1743  17-03-2020 10:17  25-03-2020 11:00\n",
       "4  id8238421     1859  01-03-2020 11:42  01-03-2020 11:43\n",
       "3  id8641743     2752  20-03-2020 15:44  21-04-2020 15:44\n",
       "2  id2185490     3210  16-03-2020 16:28  01-12-2020 00:00\n",
       "6  id7642700     3020  15-03-2020 14:21  15-03-2020 23:42\n",
       "2  id8741631     5677  19-03-2020 12:28  01-12-2020 00:00"
      ]
     },
     "execution_count": 234,
     "metadata": {},
     "output_type": "execute_result"
    }
   ],
   "source": [
    "#прочитаем файл с активациями\n",
    "activations = pd.read_csv('subsid\\\\zprod_activations_logs.csv', sep=';')\n",
    "activations"
   ]
  },
  {
   "cell_type": "code",
   "execution_count": 246,
   "id": "b3473b6f",
   "metadata": {},
   "outputs": [
    {
     "data": {
      "text/html": [
       "<div>\n",
       "<style scoped>\n",
       "    .dataframe tbody tr th:only-of-type {\n",
       "        vertical-align: middle;\n",
       "    }\n",
       "\n",
       "    .dataframe tbody tr th {\n",
       "        vertical-align: top;\n",
       "    }\n",
       "\n",
       "    .dataframe thead th {\n",
       "        text-align: right;\n",
       "    }\n",
       "</style>\n",
       "<table border=\"1\" class=\"dataframe\">\n",
       "  <thead>\n",
       "    <tr style=\"text-align: right;\">\n",
       "      <th></th>\n",
       "      <th>SUBS_ID</th>\n",
       "      <th>FILIAL_ID</th>\n",
       "      <th>PROD_ID</th>\n",
       "      <th>ACT_DTTM</th>\n",
       "      <th>START_DTTM</th>\n",
       "      <th>END_DTTM</th>\n",
       "    </tr>\n",
       "  </thead>\n",
       "  <tbody>\n",
       "    <tr>\n",
       "      <th>0</th>\n",
       "      <td>id4651830</td>\n",
       "      <td>1</td>\n",
       "      <td>1954</td>\n",
       "      <td>20-03-2020 14:59</td>\n",
       "      <td>20-03-2020 14:59</td>\n",
       "      <td>01-12-2020 00:00</td>\n",
       "    </tr>\n",
       "    <tr>\n",
       "      <th>1</th>\n",
       "      <td>id7646509</td>\n",
       "      <td>5</td>\n",
       "      <td>6431</td>\n",
       "      <td>19-03-2020 13:00</td>\n",
       "      <td>19-03-2020 13:00</td>\n",
       "      <td>19-03-2020 13:03</td>\n",
       "    </tr>\n",
       "    <tr>\n",
       "      <th>2</th>\n",
       "      <td>id5416547</td>\n",
       "      <td>3</td>\n",
       "      <td>1743</td>\n",
       "      <td>17-03-2020 10:17</td>\n",
       "      <td>17-03-2020 10:17</td>\n",
       "      <td>25-03-2020 11:00</td>\n",
       "    </tr>\n",
       "    <tr>\n",
       "      <th>3</th>\n",
       "      <td>id2185490</td>\n",
       "      <td>2</td>\n",
       "      <td>3210</td>\n",
       "      <td>16-03-2020 16:28</td>\n",
       "      <td>16-03-2020 16:28</td>\n",
       "      <td>01-12-2020 00:00</td>\n",
       "    </tr>\n",
       "    <tr>\n",
       "      <th>4</th>\n",
       "      <td>id7642700</td>\n",
       "      <td>6</td>\n",
       "      <td>3020</td>\n",
       "      <td>15-03-2020 14:21</td>\n",
       "      <td>15-03-2020 14:21</td>\n",
       "      <td>15-03-2020 23:42</td>\n",
       "    </tr>\n",
       "  </tbody>\n",
       "</table>\n",
       "</div>"
      ],
      "text/plain": [
       "     SUBS_ID  FILIAL_ID  PROD_ID          ACT_DTTM        START_DTTM  \\\n",
       "0  id4651830          1     1954  20-03-2020 14:59  20-03-2020 14:59   \n",
       "1  id7646509          5     6431  19-03-2020 13:00  19-03-2020 13:00   \n",
       "2  id5416547          3     1743  17-03-2020 10:17  17-03-2020 10:17   \n",
       "3  id2185490          2     3210  16-03-2020 16:28  16-03-2020 16:28   \n",
       "4  id7642700          6     3020  15-03-2020 14:21  15-03-2020 14:21   \n",
       "\n",
       "           END_DTTM  \n",
       "0  01-12-2020 00:00  \n",
       "1  19-03-2020 13:03  \n",
       "2  25-03-2020 11:00  \n",
       "3  01-12-2020 00:00  \n",
       "4  15-03-2020 23:42  "
      ]
     },
     "execution_count": 246,
     "metadata": {},
     "output_type": "execute_result"
    }
   ],
   "source": [
    "#объединим таблицы\n",
    "subset_activ = subset.merge(activations, on=['SUBS_ID', 'PROD_ID'], how='inner')\n",
    "subset_activ"
   ]
  },
  {
   "cell_type": "code",
   "execution_count": 248,
   "id": "9c9fc62c",
   "metadata": {},
   "outputs": [
    {
     "data": {
      "text/plain": [
       "SUBS_ID       object\n",
       "FILIAL_ID      int64\n",
       "PROD_ID        int64\n",
       "ACT_DTTM      object\n",
       "START_DTTM    object\n",
       "END_DTTM      object\n",
       "dtype: object"
      ]
     },
     "execution_count": 248,
     "metadata": {},
     "output_type": "execute_result"
    }
   ],
   "source": [
    "subset_activ.dtypes"
   ]
  },
  {
   "cell_type": "code",
   "execution_count": 249,
   "id": "27fec982",
   "metadata": {},
   "outputs": [],
   "source": [
    "#переведем к dt \n",
    "for i in ['START_DTTM', 'END_DTTM']:\n",
    "    subset_activ[i] = pd.to_datetime(subset_activ[i], dayfirst=True)"
   ]
  },
  {
   "cell_type": "code",
   "execution_count": 251,
   "id": "213c719e",
   "metadata": {},
   "outputs": [],
   "source": [
    "#создадим еще один столбец с количеством минут между START_DTTM и END_DTTM\n",
    "subset_activ = subset_activ.assign(\n",
    "    DIFF = (subset_activ.END_DTTM - subset_activ.START_DTTM) \\\n",
    "            .dt.total_seconds().div(60)\n",
    ")"
   ]
  },
  {
   "cell_type": "code",
   "execution_count": 258,
   "id": "33756a09",
   "metadata": {},
   "outputs": [
    {
     "data": {
      "text/html": [
       "<div>\n",
       "<style scoped>\n",
       "    .dataframe tbody tr th:only-of-type {\n",
       "        vertical-align: middle;\n",
       "    }\n",
       "\n",
       "    .dataframe tbody tr th {\n",
       "        vertical-align: top;\n",
       "    }\n",
       "\n",
       "    .dataframe thead th {\n",
       "        text-align: right;\n",
       "    }\n",
       "</style>\n",
       "<table border=\"1\" class=\"dataframe\">\n",
       "  <thead>\n",
       "    <tr style=\"text-align: right;\">\n",
       "      <th></th>\n",
       "      <th>SUBS_ID</th>\n",
       "      <th>FILIAL_ID</th>\n",
       "      <th>PROD_ID</th>\n",
       "      <th>ACT_DTTM</th>\n",
       "      <th>START_DTTM</th>\n",
       "      <th>END_DTTM</th>\n",
       "      <th>DIFF</th>\n",
       "    </tr>\n",
       "  </thead>\n",
       "  <tbody>\n",
       "    <tr>\n",
       "      <th>0</th>\n",
       "      <td>id4651830</td>\n",
       "      <td>1</td>\n",
       "      <td>1954</td>\n",
       "      <td>20-03-2020 14:59</td>\n",
       "      <td>2020-03-20 14:59:00</td>\n",
       "      <td>2020-12-01 00:00:00</td>\n",
       "      <td>367741.0</td>\n",
       "    </tr>\n",
       "    <tr>\n",
       "      <th>2</th>\n",
       "      <td>id5416547</td>\n",
       "      <td>3</td>\n",
       "      <td>1743</td>\n",
       "      <td>17-03-2020 10:17</td>\n",
       "      <td>2020-03-17 10:17:00</td>\n",
       "      <td>2020-03-25 11:00:00</td>\n",
       "      <td>11563.0</td>\n",
       "    </tr>\n",
       "    <tr>\n",
       "      <th>3</th>\n",
       "      <td>id2185490</td>\n",
       "      <td>2</td>\n",
       "      <td>3210</td>\n",
       "      <td>16-03-2020 16:28</td>\n",
       "      <td>2020-03-16 16:28:00</td>\n",
       "      <td>2020-12-01 00:00:00</td>\n",
       "      <td>373412.0</td>\n",
       "    </tr>\n",
       "    <tr>\n",
       "      <th>4</th>\n",
       "      <td>id7642700</td>\n",
       "      <td>6</td>\n",
       "      <td>3020</td>\n",
       "      <td>15-03-2020 14:21</td>\n",
       "      <td>2020-03-15 14:21:00</td>\n",
       "      <td>2020-03-15 23:42:00</td>\n",
       "      <td>561.0</td>\n",
       "    </tr>\n",
       "  </tbody>\n",
       "</table>\n",
       "</div>"
      ],
      "text/plain": [
       "     SUBS_ID  FILIAL_ID  PROD_ID          ACT_DTTM          START_DTTM  \\\n",
       "0  id4651830          1     1954  20-03-2020 14:59 2020-03-20 14:59:00   \n",
       "2  id5416547          3     1743  17-03-2020 10:17 2020-03-17 10:17:00   \n",
       "3  id2185490          2     3210  16-03-2020 16:28 2020-03-16 16:28:00   \n",
       "4  id7642700          6     3020  15-03-2020 14:21 2020-03-15 14:21:00   \n",
       "\n",
       "             END_DTTM      DIFF  \n",
       "0 2020-12-01 00:00:00  367741.0  \n",
       "2 2020-03-25 11:00:00   11563.0  \n",
       "3 2020-12-01 00:00:00  373412.0  \n",
       "4 2020-03-15 23:42:00     561.0  "
      ]
     },
     "execution_count": 258,
     "metadata": {},
     "output_type": "execute_result"
    }
   ],
   "source": [
    "#отберем записи, где больше 5 минут\n",
    "new_subset_activ.query('DIFF >= 5')"
   ]
  },
  {
   "cell_type": "code",
   "execution_count": 12,
   "id": "c2aa9ca3",
   "metadata": {},
   "outputs": [
    {
     "ename": "NameError",
     "evalue": "name 'new_subset_activ' is not defined",
     "output_type": "error",
     "traceback": [
      "\u001b[1;31m---------------------------------------------------------------------------\u001b[0m",
      "\u001b[1;31mNameError\u001b[0m                                 Traceback (most recent call last)",
      "Input \u001b[1;32mIn [12]\u001b[0m, in \u001b[0;36m<cell line: 1>\u001b[1;34m()\u001b[0m\n\u001b[1;32m----> 1\u001b[0m \u001b[43mnew_subset_activ\u001b[49m\u001b[38;5;241m.\u001b[39mto_csv(\u001b[38;5;124m'\u001b[39m\u001b[38;5;124msubset_activ.csv\u001b[39m\u001b[38;5;124m'\u001b[39m, sep\u001b[38;5;241m=\u001b[39m\u001b[38;5;124m'\u001b[39m\u001b[38;5;124m;\u001b[39m\u001b[38;5;124m'\u001b[39m)\n",
      "\u001b[1;31mNameError\u001b[0m: name 'new_subset_activ' is not defined"
     ]
    }
   ],
   "source": [
    "new_subset_activ.to_csv('subset_activ.csv', sep=';')"
   ]
  },
  {
   "cell_type": "code",
   "execution_count": 17,
   "id": "da0e4a52",
   "metadata": {},
   "outputs": [
    {
     "data": {
      "text/plain": [
       "['dde', 'dlepl', 'efkem', 'cfe']"
      ]
     },
     "execution_count": 17,
     "metadata": {},
     "output_type": "execute_result"
    }
   ],
   "source": [
    "s = 'dde, dlepl,   efkem, cfe'\n",
    "[i.strip() for i in s.split(', ')]"
   ]
  },
  {
   "cell_type": "code",
   "execution_count": null,
   "id": "175fee97",
   "metadata": {},
   "outputs": [],
   "source": [
    "!"
   ]
  }
 ],
 "metadata": {
  "kernelspec": {
   "display_name": "Python 3 (ipykernel)",
   "language": "python",
   "name": "python3"
  },
  "language_info": {
   "codemirror_mode": {
    "name": "ipython",
    "version": 3
   },
   "file_extension": ".py",
   "mimetype": "text/x-python",
   "name": "python",
   "nbconvert_exporter": "python",
   "pygments_lexer": "ipython3",
   "version": "3.10.5"
  }
 },
 "nbformat": 4,
 "nbformat_minor": 5
}
